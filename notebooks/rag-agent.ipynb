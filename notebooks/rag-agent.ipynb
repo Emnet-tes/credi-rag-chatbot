{
 "cells": [
  {
   "cell_type": "code",
   "execution_count": 1,
   "id": "2563b848-858d-4fc4-881e-31fec4d43015",
   "metadata": {},
   "outputs": [
    {
     "name": "stdout",
     "output_type": "stream",
     "text": [
      "Project root: d:\\GitHub\\10acadamy\\credi-rag-chatbot\n"
     ]
    }
   ],
   "source": [
    "import sys\n",
    "import os\n",
    "\n",
    "# Get the current working directory\n",
    "current_dir = os.getcwd()\n",
    "\n",
    "# Add the project root directory to the Python path\n",
    "project_root = os.path.abspath(os.path.join(current_dir, '..'))\n",
    "sys.path.insert(0, project_root)\n",
    "\n",
    "# Print the project root to verify\n",
    "print(f\"Project root: {project_root}\")"
   ]
  },
  {
   "cell_type": "code",
   "execution_count": 5,
   "id": "a272aacd-2e6b-4038-9ffe-62122d9e943b",
   "metadata": {},
   "outputs": [],
   "source": [
    "from src.rag_pipeline import rag_answer"
   ]
  },
  {
   "cell_type": "code",
   "execution_count": 4,
   "id": "dbeb90be-627b-45e0-99ca-8e141c849848",
   "metadata": {},
   "outputs": [
    {
     "name": "stdout",
     "output_type": "stream",
     "text": [
      "Answer: Based on the provided excerpts, common credit card complaints include:\n",
      "\n",
      "*   **Unauthorized/fraudulent purchases:** Multiple instances of unauthorized transactions are mentioned.\n",
      "*   **Unearned fees and interest:** The consumer complains about being charged fees and interest even after canceling the card.\n",
      "*   **Credit reporting issues:** Concerns about alleged fabrication of credit history and general credit reporting are raised.\n",
      "*   **Problems with card deactivation and notifications:** Issues regarding the ATM card deactivation process and lack of notification are highlighted.\n",
      "*   **Unsatisfactory complaint resolution:** The consumer expresses frustration with the company closing previous complaints without proper resolution.\n",
      "Chunks used:\n",
      "1. please see the attached narrative complaint and exhibits this complaint is about unearned fees unearned interest and credit reporting all after the co...\n",
      "\n",
      "2. it is important to note that american express as a company that generates revenue through account receivables operates within the realm of issuing sec...\n",
      "\n",
      "3. is there not a potential pattern hazardous reoccurring repeatable issues at least addressed here 4 have the concerns for account and card holder safet...\n",
      "\n",
      "4. this complaint is due to the company closing complaint xxxx and xxxx without proper resolution as a reminder should the company close this complaint w...\n",
      "\n",
      "5. this complaint is due to the company closing complaint xxxx and xxxx without proper resolution as a reminder should the company close this complaint w...\n",
      "\n"
     ]
    }
   ],
   "source": [
    "result = rag_answer(\"What complaints are common with credit cards?\")\n",
    "print(\"Answer:\", result[\"answer\"])\n",
    "print(\"Chunks used:\")\n",
    "for i, chunk in enumerate(result[\"retrieved_chunks\"], 1):\n",
    "    print(f\"{i}. {chunk[:150]}...\\n\")"
   ]
  },
  {
   "cell_type": "code",
   "execution_count": null,
   "id": "33bd1e33-a6d1-4d6f-98eb-8e74ca300a79",
   "metadata": {},
   "outputs": [],
   "source": []
  }
 ],
 "metadata": {
  "kernelspec": {
   "display_name": "Python 3 (ipykernel)",
   "language": "python",
   "name": "python3"
  },
  "language_info": {
   "codemirror_mode": {
    "name": "ipython",
    "version": 3
   },
   "file_extension": ".py",
   "mimetype": "text/x-python",
   "name": "python",
   "nbconvert_exporter": "python",
   "pygments_lexer": "ipython3",
   "version": "3.12.7"
  }
 },
 "nbformat": 4,
 "nbformat_minor": 5
}
